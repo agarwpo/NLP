{
 "cells": [
  {
   "cell_type": "markdown",
   "metadata": {},
   "source": [
    "# Parts of Speech Tagging"
   ]
  },
  {
   "cell_type": "markdown",
   "metadata": {},
   "source": [
    "Using the short story [The Tale of Peter Rabbit](https://en.wikipedia.org/wiki/The_Tale_of_Peter_Rabbit) by Beatrix Potter (1902)."
   ]
  },
  {
   "cell_type": "code",
   "execution_count": 1,
   "metadata": {},
   "outputs": [],
   "source": [
    "import spacy\n",
    "nlp = spacy.load('en_core_web_sm')\n",
    "from spacy import displacy"
   ]
  },
  {
   "cell_type": "code",
   "execution_count": 2,
   "metadata": {},
   "outputs": [],
   "source": [
    "with open('peterrabbit.txt') as f:\n",
    "    doc=nlp(f.read())"
   ]
  },
  {
   "cell_type": "code",
   "execution_count": 5,
   "metadata": {},
   "outputs": [
    {
     "name": "stdout",
     "output_type": "stream",
     "text": [
      "They lived with their Mother in a sand-bank, underneath the root of a\n",
      "very big fir-tree.\n",
      "\n",
      "\n"
     ]
    }
   ],
   "source": [
    "sentences=[s for s in doc.sents]\n",
    "print(sentences[2])"
   ]
  },
  {
   "cell_type": "markdown",
   "metadata": {},
   "source": [
    "**For every token in the third sentence, printing the token text, the POS tag, the fine-grained TAG tag, and the description of the fine-grained tag.**"
   ]
  },
  {
   "cell_type": "code",
   "execution_count": 6,
   "metadata": {},
   "outputs": [
    {
     "name": "stdout",
     "output_type": "stream",
     "text": [
      "They      PRON      PRP       pronoun, personal\n",
      "lived     VERB      VBD       verb, past tense\n",
      "with      ADP       IN        conjunction, subordinating or preposition\n",
      "their     DET       PRP$      pronoun, possessive\n",
      "Mother    PROPN     NNP       noun, proper singular\n",
      "in        ADP       IN        conjunction, subordinating or preposition\n",
      "a         DET       DT        determiner\n",
      "sand      NOUN      NN        noun, singular or mass\n",
      "-         PUNCT     HYPH      punctuation mark, hyphen\n",
      "bank      NOUN      NN        noun, singular or mass\n",
      ",         PUNCT     ,         punctuation mark, comma\n",
      "underneathADP       IN        conjunction, subordinating or preposition\n",
      "the       DET       DT        determiner\n",
      "root      NOUN      NN        noun, singular or mass\n",
      "of        ADP       IN        conjunction, subordinating or preposition\n",
      "a         DET       DT        determiner\n",
      "\n",
      "         SPACE     _SP       None\n",
      "very      ADV       RB        adverb\n",
      "big       ADJ       JJ        adjective\n",
      "fir       NOUN      NN        noun, singular or mass\n",
      "-         PUNCT     HYPH      punctuation mark, hyphen\n",
      "tree      NOUN      NN        noun, singular or mass\n",
      ".         PUNCT     .         punctuation mark, sentence closer\n",
      "\n",
      "\n",
      "        SPACE     _SP       None\n"
     ]
    }
   ],
   "source": [
    "for token in sentences[2]:\n",
    "    print(f'{token.text :10}{token.pos_ :10}{token.tag_ :10}{spacy.explain(token.tag_)}')"
   ]
  },
  {
   "cell_type": "markdown",
   "metadata": {},
   "source": [
    "**Frequency list of POS tags from the entire document**"
   ]
  },
  {
   "cell_type": "code",
   "execution_count": 7,
   "metadata": {},
   "outputs": [
    {
     "name": "stdout",
     "output_type": "stream",
     "text": [
      "84. ADJ  : 49\n",
      "85. ADP  : 122\n",
      "86. ADV  : 67\n",
      "87. AUX  : 48\n",
      "89. CCONJ: 61\n",
      "90. DET  : 117\n",
      "92. NOUN : 169\n",
      "93. NUM  : 8\n",
      "94. PART : 28\n",
      "95. PRON : 82\n",
      "96. PROPN: 75\n",
      "97. PUNCT: 174\n",
      "98. SCONJ: 20\n",
      "100. VERB : 139\n",
      "103. SPACE: 99\n"
     ]
    }
   ],
   "source": [
    "POS_counts = doc.count_by(spacy.attrs.POS)\n",
    "for k,v in sorted(POS_counts.items()):\n",
    "    print(f'{k}. {doc.vocab[k].text:{5}}: {v}')"
   ]
  },
  {
   "cell_type": "markdown",
   "metadata": {},
   "source": [
    "**Percentage of noun tokens are?**"
   ]
  },
  {
   "cell_type": "code",
   "execution_count": 8,
   "metadata": {},
   "outputs": [
    {
     "name": "stdout",
     "output_type": "stream",
     "text": [
      "169/1258 = 13.43%\n"
     ]
    }
   ],
   "source": [
    "total=0\n",
    "nouns=0\n",
    "for k,v in sorted(POS_counts.items()):\n",
    "    if doc.vocab[k].text=='NOUN':\n",
    "        nouns=v\n",
    "    total+=v\n",
    "\n",
    "print(f'{nouns}/{total} = {round(((nouns/total)*100),2)}%')"
   ]
  },
  {
   "cell_type": "markdown",
   "metadata": {},
   "source": [
    "**Show the first two named entities from Beatrix Potter's 'The Tale of Peter Rabbit'**"
   ]
  },
  {
   "cell_type": "code",
   "execution_count": 9,
   "metadata": {},
   "outputs": [
    {
     "data": {
      "text/plain": [
       "(Peter Rabbit, Beatrix Potter)"
      ]
     },
     "execution_count": 9,
     "metadata": {},
     "output_type": "execute_result"
    }
   ],
   "source": [
    "doc.ents[0:2]"
   ]
  },
  {
   "cell_type": "code",
   "execution_count": 10,
   "metadata": {},
   "outputs": [
    {
     "name": "stdout",
     "output_type": "stream",
     "text": [
      "Peter Rabbit - PERSON - People, including fictional\n",
      "Beatrix Potter - PERSON - People, including fictional\n"
     ]
    }
   ],
   "source": [
    "for ent in doc.ents[:2]:\n",
    "    print(ent.text+' - '+ent.label_+' - '+str(spacy.explain(ent.label_)))"
   ]
  },
  {
   "cell_type": "markdown",
   "metadata": {},
   "source": [
    "**Check how many sentences contain named entities?**"
   ]
  },
  {
   "cell_type": "code",
   "execution_count": 11,
   "metadata": {},
   "outputs": [
    {
     "data": {
      "text/plain": [
       "34"
      ]
     },
     "execution_count": 11,
     "metadata": {},
     "output_type": "execute_result"
    }
   ],
   "source": [
    "list_of_sents=[]\n",
    "for s in sentences:\n",
    "    if s.ents:\n",
    "        list_of_sents.append(s)\n",
    "len(list_of_sents)"
   ]
  },
  {
   "cell_type": "markdown",
   "metadata": {},
   "source": [
    "**Displaying the named entity visualization for `list_of_sents[0]` from the previous problem**"
   ]
  },
  {
   "cell_type": "code",
   "execution_count": 12,
   "metadata": {},
   "outputs": [
    {
     "data": {
      "text/html": [
       "<span class=\"tex2jax_ignore\"><div class=\"entities\" style=\"line-height: 2.5; direction: ltr\">The Tale of \n",
       "<mark class=\"entity\" style=\"background: #aa9cfc; padding: 0.45em 0.6em; margin: 0 0.25em; line-height: 1; border-radius: 0.35em;\">\n",
       "    Peter Rabbit\n",
       "    <span style=\"font-size: 0.8em; font-weight: bold; line-height: 1; border-radius: 0.35em; text-transform: uppercase; vertical-align: middle; margin-left: 0.5rem\">PERSON</span>\n",
       "</mark>\n",
       ", by \n",
       "<mark class=\"entity\" style=\"background: #aa9cfc; padding: 0.45em 0.6em; margin: 0 0.25em; line-height: 1; border-radius: 0.35em;\">\n",
       "    Beatrix Potter\n",
       "    <span style=\"font-size: 0.8em; font-weight: bold; line-height: 1; border-radius: 0.35em; text-transform: uppercase; vertical-align: middle; margin-left: 0.5rem\">PERSON</span>\n",
       "</mark>\n",
       " (\n",
       "<mark class=\"entity\" style=\"background: #bfe1d9; padding: 0.45em 0.6em; margin: 0 0.25em; line-height: 1; border-radius: 0.35em;\">\n",
       "    1902\n",
       "    <span style=\"font-size: 0.8em; font-weight: bold; line-height: 1; border-radius: 0.35em; text-transform: uppercase; vertical-align: middle; margin-left: 0.5rem\">DATE</span>\n",
       "</mark>\n",
       ").\n",
       "\n",
       "</div></span>"
      ],
      "text/plain": [
       "<IPython.core.display.HTML object>"
      ]
     },
     "metadata": {},
     "output_type": "display_data"
    }
   ],
   "source": [
    "displacy.render(list_of_sents[0],style='ent',jupyter=True)"
   ]
  }
 ],
 "metadata": {
  "kernelspec": {
   "display_name": "Python 3",
   "language": "python",
   "name": "python3"
  },
  "language_info": {
   "codemirror_mode": {
    "name": "ipython",
    "version": 3
   },
   "file_extension": ".py",
   "mimetype": "text/x-python",
   "name": "python",
   "nbconvert_exporter": "python",
   "pygments_lexer": "ipython3",
   "version": "3.8.3"
  }
 },
 "nbformat": 4,
 "nbformat_minor": 2
}
